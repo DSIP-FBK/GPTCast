{
 "cells": [
  {
   "cell_type": "markdown",
   "metadata": {},
   "source": [
    "#### Before running this notebook, please make sure to download and unpack the FTS dataset:\n",
    "The Forecaster Test Set contains both the test sequences and the corresponding forecasts for the three models (GPTCast8x8, GPTCast16x16, and Linda) that are used in the paper.\n",
    "- run the `download_data.py` script in the `data` directory.\n",
    "```bash\n",
    "cd data\n",
    "python download_data.py\n",
    "```\n",
    "- unpack the downloaded `fts.tar` file in the `data` directory.\n",
    "```bash\n",
    "cd data\n",
    "tar -xvf fts.tar\n",
    "```"
   ]
  },
  {
   "cell_type": "code",
   "execution_count": null,
   "metadata": {},
   "outputs": [
    {
     "name": "stdout",
     "output_type": "stream",
     "text": [
      "Pysteps configuration file found at: /home/gabriele/Documents/fbk/meteo/GPTCast/.venv/lib/python3.12/site-packages/pysteps/pystepsrc\n",
      "\n"
     ]
    }
   ],
   "source": [
    "import sys\n",
    "sys.path.append('..')\n",
    "import os\n",
    "\n",
    "import pickle\n",
    "from tqdm import tqdm\n",
    "from multiprocessing import Pool\n",
    "\n",
    "from pysteps.verification.ensscores import rankhist_init, rankhist_accum\n",
    "from glob import glob\n",
    "import xarray as xr\n",
    "\n",
    "import numpy as np\n",
    "from tqdm import tqdm\n"
   ]
  },
  {
   "cell_type": "code",
   "execution_count": 2,
   "metadata": {},
   "outputs": [],
   "source": [
    "def reflectivity_to_rainrate(arr: np.ndarray,\n",
    "                             minmax: tuple = (-20, 60),\n",
    "                             a: float = 200.0,\n",
    "                             b: float = 1.6):\n",
    "    \"\"\"\n",
    "    Input is 0 - 60 reflectivity value (dbZ)\n",
    "        \n",
    "    Output is mm/h rain rate\n",
    "    \"\"\"\n",
    "    Z = 10.0 ** (arr / 10.0)  # wradlib.trafo.idecibel\n",
    "    rr = (Z / a) ** (1.0 / b)  # wradlib.zr.z_to_r\n",
    "    rr[rr < 0.04] = 0.\n",
    "    return rr\n",
    "\n",
    "def generate_rank_hist_by_lead_time(obs, pred, pred_times):\n",
    "    assert pred.shape[1] == len(pred_times), 'Sizes mismatch!'\n",
    "    # Init cat tables\n",
    "    rankhist_tables = {lead_time: rankhist_init(pred.shape[0]) for lead_time in pred_times}\n",
    "    # Calculate scores for cat_tables\n",
    "    for lt_idx, lead_time in enumerate(pred_times):\n",
    "        # for ev in range(pred.shape[2]):\n",
    "        rankhist_accum(rankhist_tables[lead_time], pred[:,lt_idx,:,:,:], obs[lt_idx,:,:,:])\n",
    "    return rankhist_tables\n",
    "\n",
    "def generate_rank_hist(obs, pred):\n",
    "    # assert pred.shape[1] == len(pred_times), 'Sizes mismatch!'\n",
    "    # Init cat tables\n",
    "    rankhist_tables = {1000: rankhist_init(pred.shape[0])}\n",
    "    # Calculate scores for cat_tables\n",
    "    rankhist_accum(rankhist_tables[1000], pred, obs)\n",
    "    return rankhist_tables\n",
    "\n",
    "def sum_tables_by_lead_times(tables):\n",
    "    tab_all = tables[0]\n",
    "    for tab in tables[1:]:\n",
    "        for lt in tab:\n",
    "            tab_all[lt]['n'] = tab[lt]['n'] + tab_all[lt]['n']\n",
    "    return tab_all"
   ]
  },
  {
   "cell_type": "code",
   "execution_count": 3,
   "metadata": {},
   "outputs": [],
   "source": [
    "# available models are \"gptcast_16x16\", \"gptcast_8x8\" and \"linda\"\n",
    "mod_name = 'gptcast_8x8'\n",
    "# mod_name = 'gptcast_16x16'\n",
    "# mod_name = 'linda'\n",
    "\n",
    "input_data_path = f'../data/fts/{mod_name}/'\n",
    "output_data_path = f'../data/verification_fts/{mod_name}/'\n",
    "\n",
    "output_fn = 'tables_verification_nc_rank_hist.pkl'"
   ]
  },
  {
   "cell_type": "code",
   "execution_count": 4,
   "metadata": {},
   "outputs": [],
   "source": [
    "pred_times = list(range(5, 125, 5))\n",
    "rank_times = [15, 30, 60, 90, 120]\n",
    "\n",
    "min_lat = 0\n",
    "max_lat = 256\n",
    "min_lon = 0\n",
    "max_lon = 256"
   ]
  },
  {
   "cell_type": "code",
   "execution_count": 5,
   "metadata": {},
   "outputs": [
    {
     "data": {
      "text/plain": [
       "197"
      ]
     },
     "execution_count": 5,
     "metadata": {},
     "output_type": "execute_result"
    }
   ],
   "source": [
    "# loop over all available verification sequences and calculate scores\n",
    "file_list = glob(input_data_path + '*.nc')\n",
    "file_list.sort()\n",
    "len(file_list)"
   ]
  },
  {
   "cell_type": "code",
   "execution_count": 6,
   "metadata": {},
   "outputs": [
    {
     "name": "stdout",
     "output_type": "stream",
     "text": [
      "[2, 5, 11, 17, 23]\n",
      "[5, 10, 15, 20, 25, 30, 35, 40, 45, 50, 55, 60, 65, 70, 75, 80, 85, 90, 95, 100, 105, 110, 115, 120]\n"
     ]
    }
   ],
   "source": [
    "idx_rank_times = [i for i in range(len(pred_times)) if pred_times[i] in rank_times]\n",
    "print(idx_rank_times)\n",
    "print(pred_times)"
   ]
  },
  {
   "cell_type": "code",
   "execution_count": 7,
   "metadata": {},
   "outputs": [],
   "source": [
    "def worker_selected_lt(file_i: str):\n",
    "    np.random.seed(seed=44)\n",
    "    nc_file = xr.open_dataset(file_i)\n",
    "    nc_file = nc_file.sel(height=slice(min_lat,max_lat), width=slice(min_lon,max_lon))  \n",
    "    ens_pred = reflectivity_to_rainrate(nc_file.ensemble.data)[:,idx_rank_times,:,:]\n",
    "    obs = reflectivity_to_rainrate(nc_file.observation.data)[idx_rank_times,:,:]\n",
    "    ens = np.expand_dims(ens_pred, axis=2)\n",
    "    obs = np.expand_dims(obs, axis=1)\n",
    "    # print(ens_pred.shape, obs.shape)\n",
    "    # print(len(rank_times))\n",
    "    rank_hist_table = generate_rank_hist_by_lead_time(obs, ens, rank_times)\n",
    "\n",
    "    return rank_hist_table"
   ]
  },
  {
   "cell_type": "code",
   "execution_count": 8,
   "metadata": {},
   "outputs": [
    {
     "name": "stderr",
     "output_type": "stream",
     "text": [
      "100%|██████████| 197/197 [01:20<00:00,  2.45it/s]\n"
     ]
    }
   ],
   "source": [
    "# Calculating rank hist table for each selected lead time\n",
    "with Pool(30) as p:\n",
    "    tables = list(tqdm(p.imap(worker_selected_lt, file_list), total=len(file_list)))"
   ]
  },
  {
   "cell_type": "code",
   "execution_count": 9,
   "metadata": {},
   "outputs": [
    {
     "data": {
      "text/plain": [
       "{15: {'num_ens_members': 20,\n",
       "  'n': array([1189113,  631264,  548704,  518232,  486220,  471580,  465389,\n",
       "          466091,  448771,  441660,  446324,  435142,  436190,  438600,\n",
       "          444806,  447071,  454738,  470445,  489970,  529710, 1022206]),\n",
       "  'X_min': None},\n",
       " 30: {'num_ens_members': 20,\n",
       "  'n': array([995158, 584339, 512985, 467011, 447101, 432872, 417538, 405236,\n",
       "         395498, 388060, 384284, 377463, 376414, 380401, 384075, 386733,\n",
       "         380665, 386636, 422845, 462941, 963981]),\n",
       "  'X_min': None},\n",
       " 60: {'num_ens_members': 20,\n",
       "  'n': array([619819, 412505, 378400, 350362, 333285, 318623, 313410, 303173,\n",
       "         296523, 291785, 287278, 282063, 282426, 280732, 278110, 278831,\n",
       "         280055, 287865, 303449, 335661, 645337]),\n",
       "  'X_min': None},\n",
       " 90: {'num_ens_members': 20,\n",
       "  'n': array([340921, 256231, 239188, 224685, 214777, 208785, 202605, 196515,\n",
       "         191937, 188170, 183059, 179595, 178512, 176332, 174808, 174430,\n",
       "         176740, 180634, 195722, 213242, 350873]),\n",
       "  'X_min': None},\n",
       " 120: {'num_ens_members': 20,\n",
       "  'n': array([146106, 123421, 117014, 112858, 108562, 105595, 102818, 102050,\n",
       "         102140,  98339,  94108,  90140,  88027,  86331,  84712,  85790,\n",
       "          86882,  89492,  97100, 107764, 161869]),\n",
       "  'X_min': None}}"
      ]
     },
     "execution_count": 9,
     "metadata": {},
     "output_type": "execute_result"
    }
   ],
   "source": [
    "tables[0]\n",
    "tab_by_lead_time = sum_tables_by_lead_times(tables)\n",
    "tab_by_lead_time"
   ]
  },
  {
   "cell_type": "code",
   "execution_count": 10,
   "metadata": {},
   "outputs": [],
   "source": [
    "def worker_all(file_i: str):\n",
    "    np.random.seed(seed=44)\n",
    "    nc_file = xr.open_dataset(file_i)\n",
    "    nc_file = nc_file.sel(height=slice(min_lat,max_lat))  \n",
    "    ens_pred = reflectivity_to_rainrate(nc_file.ensemble.data)[:,idx_rank_times,:,:]\n",
    "    obs = reflectivity_to_rainrate(nc_file.observation.data)[idx_rank_times,:,:]\n",
    "    rank_hist_table = generate_rank_hist(obs, ens_pred)\n",
    "\n",
    "    return rank_hist_table"
   ]
  },
  {
   "cell_type": "code",
   "execution_count": 11,
   "metadata": {},
   "outputs": [
    {
     "name": "stderr",
     "output_type": "stream",
     "text": [
      "100%|██████████| 197/197 [01:19<00:00,  2.49it/s]\n"
     ]
    }
   ],
   "source": [
    "# Calculating rank hist table for all lead times\n",
    "with Pool(30) as p:\n",
    "    tables = list(tqdm(p.imap(worker_all, file_list), total=len(file_list)))"
   ]
  },
  {
   "cell_type": "code",
   "execution_count": 12,
   "metadata": {},
   "outputs": [
    {
     "data": {
      "text/plain": [
       "{1000: {'num_ens_members': 20,\n",
       "  'n': array([3291117, 2007760, 1796291, 1673148, 1589945, 1537455, 1501760,\n",
       "         1473065, 1434869, 1408014, 1395053, 1364403, 1361569, 1362396,\n",
       "         1366511, 1372855, 1379080, 1415072, 1509086, 1649318, 3144266]),\n",
       "  'X_min': None}}"
      ]
     },
     "execution_count": 12,
     "metadata": {},
     "output_type": "execute_result"
    }
   ],
   "source": [
    "tables[0]\n",
    "tab_all_lt = sum_tables_by_lead_times(tables)\n",
    "tab_all_lt"
   ]
  },
  {
   "cell_type": "code",
   "execution_count": 13,
   "metadata": {},
   "outputs": [
    {
     "data": {
      "text/plain": [
       "{15: {'num_ens_members': 20,\n",
       "  'n': array([1189113,  631264,  548704,  518232,  486220,  471580,  465389,\n",
       "          466091,  448771,  441660,  446324,  435142,  436190,  438600,\n",
       "          444806,  447071,  454738,  470445,  489970,  529710, 1022206]),\n",
       "  'X_min': None},\n",
       " 30: {'num_ens_members': 20,\n",
       "  'n': array([995158, 584339, 512985, 467011, 447101, 432872, 417538, 405236,\n",
       "         395498, 388060, 384284, 377463, 376414, 380401, 384075, 386733,\n",
       "         380665, 386636, 422845, 462941, 963981]),\n",
       "  'X_min': None},\n",
       " 60: {'num_ens_members': 20,\n",
       "  'n': array([619819, 412505, 378400, 350362, 333285, 318623, 313410, 303173,\n",
       "         296523, 291785, 287278, 282063, 282426, 280732, 278110, 278831,\n",
       "         280055, 287865, 303449, 335661, 645337]),\n",
       "  'X_min': None},\n",
       " 90: {'num_ens_members': 20,\n",
       "  'n': array([340921, 256231, 239188, 224685, 214777, 208785, 202605, 196515,\n",
       "         191937, 188170, 183059, 179595, 178512, 176332, 174808, 174430,\n",
       "         176740, 180634, 195722, 213242, 350873]),\n",
       "  'X_min': None},\n",
       " 120: {'num_ens_members': 20,\n",
       "  'n': array([146106, 123421, 117014, 112858, 108562, 105595, 102818, 102050,\n",
       "         102140,  98339,  94108,  90140,  88027,  86331,  84712,  85790,\n",
       "          86882,  89492,  97100, 107764, 161869]),\n",
       "  'X_min': None},\n",
       " 1000: {'num_ens_members': 20,\n",
       "  'n': array([3291117, 2007760, 1796291, 1673148, 1589945, 1537455, 1501760,\n",
       "         1473065, 1434869, 1408014, 1395053, 1364403, 1361569, 1362396,\n",
       "         1366511, 1372855, 1379080, 1415072, 1509086, 1649318, 3144266]),\n",
       "  'X_min': None}}"
      ]
     },
     "execution_count": 13,
     "metadata": {},
     "output_type": "execute_result"
    }
   ],
   "source": [
    "tab_by_lead_time[1000] = tab_all_lt[1000]\n",
    "tab_by_lead_time"
   ]
  },
  {
   "cell_type": "code",
   "execution_count": 14,
   "metadata": {},
   "outputs": [],
   "source": [
    "# Save score tables to file\n",
    "os.makedirs(output_data_path, exist_ok=True)\n",
    "out_file = open(output_data_path + output_fn, \"wb\")\n",
    "pickle.dump(tab_by_lead_time, out_file)\n",
    "out_file.close()"
   ]
  },
  {
   "cell_type": "code",
   "execution_count": null,
   "metadata": {},
   "outputs": [],
   "source": []
  }
 ],
 "metadata": {
  "kernelspec": {
   "display_name": ".venv",
   "language": "python",
   "name": "python3"
  },
  "language_info": {
   "codemirror_mode": {
    "name": "ipython",
    "version": 3
   },
   "file_extension": ".py",
   "mimetype": "text/x-python",
   "name": "python",
   "nbconvert_exporter": "python",
   "pygments_lexer": "ipython3",
   "version": "3.12.5"
  }
 },
 "nbformat": 4,
 "nbformat_minor": 2
}
