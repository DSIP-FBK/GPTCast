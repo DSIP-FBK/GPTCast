{
 "cells": [
  {
   "cell_type": "markdown",
   "metadata": {},
   "source": [
    "#### Before running this notebook, please make sure to download and unpack the FTS dataset:\n",
    "The Forecaster Test Set contains both the test sequences and the corresponding forecasts for the three models (GPTCast8x8, GPTCast16x16, and Linda) that are used in the paper.\n",
    "- run the `download_data.py` script in the `data` directory.\n",
    "```bash\n",
    "cd data\n",
    "python download_data.py\n",
    "```\n",
    "- unpack the downloaded `fts.tar` file in the `data` directory.\n",
    "```bash\n",
    "cd data\n",
    "tar -xvf fts.tar\n",
    "```"
   ]
  },
  {
   "cell_type": "code",
   "execution_count": 1,
   "metadata": {},
   "outputs": [
    {
     "name": "stdout",
     "output_type": "stream",
     "text": [
      "Pysteps configuration file found at: /home/gabriele/Documents/fbk/meteo/GPTCast/.venv/lib/python3.12/site-packages/pysteps/pystepsrc\n",
      "\n"
     ]
    }
   ],
   "source": [
    "import sys\n",
    "sys.path.append('..')\n",
    "import os\n",
    "\n",
    "import pickle\n",
    "from tqdm import tqdm\n",
    "from multiprocessing import Pool\n",
    "\n",
    "from glob import glob\n",
    "import xarray as xr\n",
    "\n",
    "from pysteps.verification.probscores import CRPS_init, CRPS_accum\n",
    "import numpy as np\n",
    "from tqdm import tqdm\n",
    "from matplotlib import pyplot as plt\n"
   ]
  },
  {
   "cell_type": "code",
   "execution_count": 2,
   "metadata": {},
   "outputs": [],
   "source": [
    "def reflectivity_to_rainrate(arr: np.ndarray,\n",
    "                             minmax: tuple = (-20, 60),\n",
    "                             a: float = 200.0,\n",
    "                             b: float = 1.6):\n",
    "    \"\"\"\n",
    "    Input is 0 - 60 reflectivity value (dbZ)\n",
    "        \n",
    "    Output is mm/h rain rate\n",
    "    \"\"\"\n",
    "    Z = 10.0 ** (arr / 10.0)  # wradlib.trafo.idecibel\n",
    "    rr = (Z / a) ** (1.0 / b)  # wradlib.zr.z_to_r\n",
    "    rr[rr < 0.04] = 0.\n",
    "    return rr"
   ]
  },
  {
   "cell_type": "code",
   "execution_count": 3,
   "metadata": {},
   "outputs": [],
   "source": [
    "# available models are \"gptcast_16x16\", \"gptcast_8x8\" and \"linda\"\n",
    "mod_name = 'gptcast_8x8'\n",
    "# mod_name = 'gptcast_16x16'\n",
    "# mod_name = 'linda'\n",
    "\n",
    "input_data_path = f'../data/fts/{mod_name}/'\n",
    "output_data_path = f'../data/verification_fts/{mod_name}/'\n"
   ]
  },
  {
   "cell_type": "code",
   "execution_count": 4,
   "metadata": {},
   "outputs": [],
   "source": [
    "# Fix thresholds, scales and preds times\n",
    "pred_times = list(range(5, 125, 5))\n",
    "crps_times = [5, 15, 30, 60, 90, 120]\n",
    "idx_crps_times = [i for i in range(len(pred_times)) if pred_times[i] in crps_times]\n",
    "# pred_times\n",
    "\n",
    "min_lat = 0\n",
    "max_lat = 256\n",
    "min_lon = 0\n",
    "max_lon = 256\n",
    "output_fn = 'tables_verification_crps.pkl'"
   ]
  },
  {
   "cell_type": "code",
   "execution_count": 5,
   "metadata": {},
   "outputs": [
    {
     "data": {
      "text/plain": [
       "([5, 15, 30, 60, 90, 120], [0, 2, 5, 11, 17, 23])"
      ]
     },
     "execution_count": 5,
     "metadata": {},
     "output_type": "execute_result"
    }
   ],
   "source": [
    "crps_times, idx_crps_times"
   ]
  },
  {
   "cell_type": "code",
   "execution_count": 6,
   "metadata": {},
   "outputs": [
    {
     "data": {
      "text/plain": [
       "197"
      ]
     },
     "execution_count": 6,
     "metadata": {},
     "output_type": "execute_result"
    }
   ],
   "source": [
    "# loop over all available verification sequences and calculate scores\n",
    "file_list = glob(input_data_path + '*.nc')\n",
    "file_list.sort()\n",
    "len(file_list)"
   ]
  },
  {
   "cell_type": "code",
   "execution_count": 7,
   "metadata": {},
   "outputs": [],
   "source": [
    "def compute_crps_table_by_lead_time_for_file(fname):\n",
    "    np.random.seed(seed=44)\n",
    "    nc_file = xr.open_dataset(fname)\n",
    "    nc_file = nc_file.sel(height=slice(min_lat,max_lat), width=slice(min_lon,max_lon)) \n",
    "    ens = reflectivity_to_rainrate(nc_file.ensemble.data)\n",
    "    obs = reflectivity_to_rainrate(nc_file.observation.data)\n",
    "    tables = [CRPS_init() for _ in range(ens.shape[1])]\n",
    "    for i in range(ens.shape[1]):\n",
    "        CRPS_accum(tables[i], ens[:, i], obs[i])\n",
    "        # CRPS_accum(tables[i], obs[i][np.newaxis, ...], obs[i])\n",
    "    return tables\n"
   ]
  },
  {
   "cell_type": "code",
   "execution_count": 8,
   "metadata": {},
   "outputs": [
    {
     "name": "stderr",
     "output_type": "stream",
     "text": [
      "100%|██████████| 197/197 [02:03<00:00,  1.59it/s]\n"
     ]
    }
   ],
   "source": [
    "# Calculating rank hist table for each selected lead time\n",
    "with Pool(30) as p:\n",
    "    tables = list(tqdm(p.imap(compute_crps_table_by_lead_time_for_file, file_list), total=len(file_list)))"
   ]
  },
  {
   "cell_type": "code",
   "execution_count": 9,
   "metadata": {},
   "outputs": [],
   "source": [
    "for table in tables[1:]:\n",
    "    for i in range(len(table)):\n",
    "        tables[0][i]['CRPS_sum'] += table[i]['CRPS_sum']\n",
    "        tables[0][i]['n'] += table[i]['n']\n",
    "tables = tables[0]"
   ]
  },
  {
   "cell_type": "code",
   "execution_count": 10,
   "metadata": {},
   "outputs": [],
   "source": [
    "os.makedirs(output_data_path, exist_ok=True)\n",
    "out_file = open(os.path.join(output_data_path, output_fn), \"wb\")\n",
    "pickle.dump(tables, out_file)\n",
    "out_file.close()"
   ]
  },
  {
   "cell_type": "code",
   "execution_count": null,
   "metadata": {},
   "outputs": [],
   "source": []
  }
 ],
 "metadata": {
  "kernelspec": {
   "display_name": ".venv",
   "language": "python",
   "name": "python3"
  },
  "language_info": {
   "codemirror_mode": {
    "name": "ipython",
    "version": 3
   },
   "file_extension": ".py",
   "mimetype": "text/x-python",
   "name": "python",
   "nbconvert_exporter": "python",
   "pygments_lexer": "ipython3",
   "version": "3.12.5"
  }
 },
 "nbformat": 4,
 "nbformat_minor": 2
}
